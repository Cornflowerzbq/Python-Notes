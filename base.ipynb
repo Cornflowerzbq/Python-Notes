{
 "cells": [
  {
   "cell_type": "code",
   "execution_count": null,
   "id": "5d9d3e26",
   "metadata": {},
   "outputs": [],
   "source": [
    "#删除框  点击左侧变为蓝色 按 dd"
   ]
  },
  {
   "cell_type": "code",
   "execution_count": null,
   "id": "cc27c5a3",
   "metadata": {},
   "outputs": [],
   "source": [
    "https://dsai-notes.apachecn.org    ## python学习资料\n",
    "https://blog.csdn.net/qq471011042/article/details/79368237  ## python编程书 习题答案"
   ]
  },
  {
   "cell_type": "code",
   "execution_count": null,
   "id": "5e29d798",
   "metadata": {},
   "outputs": [],
   "source": [
    "#集合 set\n",
    "#补充：通过对包含重复元素的列表使用set() 得到不重复的列表\n",
    "# list1 & list2 交集\n",
    "# list1 | list2 并集\n",
    "# list1 -list2  差集 在list1但不在list2中\n",
    "# list1 ^ list2 不同时在list1 list2中的元素"
   ]
  },
  {
   "cell_type": "code",
   "execution_count": 4,
   "id": "4b8ead40",
   "metadata": {},
   "outputs": [
    {
     "name": "stdout",
     "output_type": "stream",
     "text": [
      "Zhuang \n",
      "Bingqing\n",
      "\tZhuang bingqing\n"
     ]
    }
   ],
   "source": [
    "# 换行符  制表符\n",
    "print(\"Zhuang \\nBingqing\")\n",
    "print(\"\\tZhuang bingqing\")\n",
    "# \\n\\t 换行后制表"
   ]
  },
  {
   "cell_type": "code",
   "execution_count": 3,
   "id": "a1e43811",
   "metadata": {},
   "outputs": [
    {
     "name": "stdout",
     "output_type": "stream",
     "text": [
      "Zhuang Bingqing\n",
      "ZHUANG BINGQING\n",
      "zhuang bingqing\n"
     ]
    }
   ],
   "source": [
    "#字符串大小写  下面三种操作都不改变name的值\n",
    "name = 'zhuang bingQing'\n",
    "print(name.title())\n",
    "print(name.upper())\n",
    "print(name.lower())"
   ]
  },
  {
   "cell_type": "code",
   "execution_count": null,
   "id": "100606c7",
   "metadata": {},
   "outputs": [],
   "source": [
    "#使用字符串 两个双引号之间可包含单引号 两个单引号不能包含单引号 不然语法错误"
   ]
  },
  {
   "cell_type": "code",
   "execution_count": 6,
   "id": "c91a59cb",
   "metadata": {},
   "outputs": [],
   "source": [
    "#数字\n",
    "** #乘方运算\n",
    "**2 #平方 3 立方\n",
    "\n",
    "#求模运算符   两数相除得余数\n",
    "5%2  #3\n",
    "    #利用得0得1 if判断奇偶\n"
   ]
  },
  {
   "cell_type": "code",
   "execution_count": 6,
   "id": "51f31703",
   "metadata": {},
   "outputs": [
    {
     "name": "stdout",
     "output_type": "stream",
     "text": [
      "I'm 21 old!\n"
     ]
    }
   ],
   "source": [
    "#在字符串中加数字 使用str()避免类型错误\n",
    "age = 21\n",
    "message = \"I'm \" + str(age)+ \" old!\" #双引号、单引号 ，+号字符串连接\n",
    "print(message)"
   ]
  },
  {
   "cell_type": "code",
   "execution_count": 1,
   "id": "7dc75ae6",
   "metadata": {},
   "outputs": [
    {
     "name": "stdout",
     "output_type": "stream",
     "text": [
      "[2, 3, 4, 5]\n"
     ]
    }
   ],
   "source": [
    "# 补充 迭代   迭代是循环的高效版本   下面也有一个列表迭代\n",
    "a = [1,2,3,4]\n",
    "\n",
    "def func(x):\n",
    "    return x+1\n",
    "\n",
    "b=[func(x) for x in a]\n",
    "print(b)"
   ]
  },
  {
   "cell_type": "code",
   "execution_count": null,
   "id": "e417af86",
   "metadata": {},
   "outputs": [],
   "source": [
    "#3.1 列表 []\n",
    "#访问列表元素 得到元素，不包括引号 索引从0开始  \n",
    "#-1访问最后一个列表元素 负数类推"
   ]
  },
  {
   "cell_type": "code",
   "execution_count": 13,
   "id": "b610e071",
   "metadata": {},
   "outputs": [
    {
     "name": "stdout",
     "output_type": "stream",
     "text": [
      "[1]\n",
      "[1, 2, 3, 4, 5, 6, 7, 8, 9, 10]\n"
     ]
    }
   ],
   "source": [
    "#3.2 列表中添加元素\n",
    "#原列表中元素是否有引号，append的时候注意取舍\n",
    "list = []\n",
    "list.append(1)  # .append() 在列表末尾添加元素\n",
    "print(list)\n",
    "list = [1,2,3,4,6,7,8,9,10] \n",
    "list.insert(4, 5) # insert() 在列表中插入元素 前面指定新元素的索引 后面指定新元素的值\n",
    "print(list)"
   ]
  },
  {
   "cell_type": "code",
   "execution_count": 2,
   "id": "c3d3b019",
   "metadata": {},
   "outputs": [
    {
     "name": "stdout",
     "output_type": "stream",
     "text": [
      "[1, 2, 3, 4, 5, 7, 8, 9, 10]\n",
      "[1, 2, 4, 5, 7, 8, 9, 10]\n",
      "[1, 2, 4, 5, 7, 8, 9]\n",
      "10\n",
      "[2, 4, 5, 7, 8, 9]\n",
      "1\n"
     ]
    }
   ],
   "source": [
    "#3.2 列表删除元素\n",
    "list = [1,2,3,4,5,6,7,8,9,10]\n",
    "del list[5]   #直接用del 方括号中是元素在列表中的位置\n",
    "print(list)\n",
    "list.remove(3)   #根据值删除元素 remove() 若原列表中的元素带引号 remove中也要带 只删除 第一个指定的值  列表出现多次全部删除:循环遍历\n",
    "print(list)\n",
    "popped_number=list.pop()# pop弹出  删除列表末尾的元素并使用该值    在前面也可以不使用变量名  直接 list.pop()\n",
    "print(list)\n",
    "print(popped_number)\n",
    "popped_number1=list.pop(0)  #pop弹出列表中任何位置处的元素，在括号中指定要删除的元素的索引\n",
    "print(list)\n",
    "print(popped_number1)"
   ]
  },
  {
   "cell_type": "code",
   "execution_count": 2,
   "id": "464a7856",
   "metadata": {},
   "outputs": [
    {
     "name": "stdout",
     "output_type": "stream",
     "text": [
      "[1, 2, 3, 4, 5, 6, 7, 8, 9, 10]\n",
      "['ab', 'abcd', 'dfsd']\n",
      "[10, 9, 8, 7, 6, 5, 4, 3, 2, 1]\n",
      "[1, 2, 3, 4, 5, 6, 7, 8, 9, 10]\n",
      "[10, 2, 8, 4, 5, 6, 7, 3, 9, 1]\n",
      "[10, 9, 8, 7, 6, 5, 4, 3, 2, 1]\n",
      "[1, 9, 3, 7, 6, 5, 4, 8, 2, 10]\n"
     ]
    }
   ],
   "source": [
    "#3.3 列表排序\n",
    "list = [10,2,8,4,5,6,7,3,9,1]\n",
    "list1 = [\"ab\",\"dfsd\",\"abcd\"]\n",
    "list.sort()    #使用sort()对列表进行永久排序     按照数字从小到大、元素小写 按字母顺序排列  有大写字母时排列方式有多种\n",
    "list1.sort()\n",
    "print(list)\n",
    "print(list1)\n",
    "list.sort(reverse=True)  #倒序排序 \n",
    "print(list)\n",
    "\n",
    "list = [10,2,8,4,5,6,7,3,9,1]\n",
    "print(sorted(list))  # sorted()函数 对列表临时排序  不是 list.sorted()  这里是函数  以上.xx()是方法 注意使用方式   函数 vs方法 \n",
    "print(list)\n",
    "print(sorted(list,reverse=True)) #倒序\n",
    "\n",
    "list.reverse() #reverse() 反转列表元素的排列顺序\n",
    "print(list)"
   ]
  },
  {
   "cell_type": "code",
   "execution_count": 9,
   "id": "df267be5",
   "metadata": {},
   "outputs": [
    {
     "name": "stdout",
     "output_type": "stream",
     "text": [
      "10\n"
     ]
    },
    {
     "data": {
      "text/plain": [
       "True"
      ]
     },
     "execution_count": 9,
     "metadata": {},
     "output_type": "execute_result"
    }
   ],
   "source": [
    "#列表长度\n",
    "list = [10,2,8,4,5,6,7,3,9,1]\n",
    "print(len(list))  #函数 len()  通常在遍历列表时需要知道列表的长度\n",
    "\n",
    "#检查特定值包含在列表中 关键字 in\n",
    "list = ['mushrooms','onions','pineapple']\n",
    "'onions' in list\n",
    "#检查特定值不包含在列表中 关键字not in\n",
    "'apple' not in list"
   ]
  },
  {
   "cell_type": "code",
   "execution_count": null,
   "id": "8cc993da",
   "metadata": {},
   "outputs": [],
   "source": [
    "#4.1 遍历列表\n",
    "cars = []\n",
    "for car in cars:   #for循环中 用于存储列表中每个值的临时变量可以指定任何名称  car a e.g\n",
    "\n",
    "#4.2 for  if  while等代码块的缩进要注意 不然会报错  正常代码也不要加上不必要的缩进   冒号"
   ]
  },
  {
   "cell_type": "code",
   "execution_count": 3,
   "id": "4aed0909",
   "metadata": {},
   "outputs": [
    {
     "name": "stdout",
     "output_type": "stream",
     "text": [
      "1\n",
      "2\n",
      "3\n",
      "4\n",
      "[1, 2, 3, 4, 5]\n",
      "[2, 4, 6, 8]\n",
      "[2, 4, 6, 8, 10]\n"
     ]
    }
   ],
   "source": [
    "#4.3 创建数字列表\n",
    "for value in range(1,5):  # range()函数  从指定的第一个值开始 到第二个值后停止\n",
    "    print(value)\n",
    "  \n",
    "numbers = list(range(1,6))    #将一系列数字转换为列表 list()\n",
    "print(numbers)\n",
    "list1=list(range(2,10,2))  #range()函数指定步长\n",
    "print(list1)\n",
    "list2=list(range(2,11,2))\n",
    "print(list2)"
   ]
  },
  {
   "cell_type": "code",
   "execution_count": 6,
   "id": "5d751e8b",
   "metadata": {},
   "outputs": [
    {
     "name": "stdout",
     "output_type": "stream",
     "text": [
      "1\n",
      "10\n",
      "55\n"
     ]
    }
   ],
   "source": [
    "#4.3 处理数字列表的函数\n",
    "list = [1,2,3,4,5,6,7,8,9,10]\n",
    "print(min(list))   #          min  max  sum\n",
    "print(max(list))\n",
    "print(sum(list))"
   ]
  },
  {
   "cell_type": "code",
   "execution_count": 8,
   "id": "571f8ec0",
   "metadata": {},
   "outputs": [
    {
     "name": "stdout",
     "output_type": "stream",
     "text": [
      "[1, 4, 9, 16, 25, 36, 49, 64, 81, 100]\n",
      "[1, 4, 9, 16, 25, 36, 49, 64, 81, 100]\n"
     ]
    }
   ],
   "source": [
    "#4.3 列表解析         将for循环和创建新元素的代码合并为一行  并自动附加新元素\n",
    "list = []\n",
    "for value in range(1,11):\n",
    "    value=value**2\n",
    "    list.append(value)\n",
    "print(list)\n",
    "\n",
    "list=[value**2 for value in range(1,11)]                #  列表迭代 value**2 表达式 存储到列表中的值\n",
    "print(list)"
   ]
  },
  {
   "cell_type": "code",
   "execution_count": 15,
   "id": "98ccb0aa",
   "metadata": {},
   "outputs": [
    {
     "name": "stdout",
     "output_type": "stream",
     "text": [
      "[3, 4]\n",
      "[1, 2, 3, 4]\n",
      "[5, 6, 7, 8, 9, 10]\n",
      "[8, 9, 10]\n",
      "3\n",
      "4\n"
     ]
    }
   ],
   "source": [
    "#4.4 处理列表的部分元素\n",
    "list = [1,2,3,4,5,6,7,8,9,10]\n",
    "print(list[2:4])     #切片  索引是第一个元素和最后一个元素加1        这里即 索引为 2 3的数    切片是左闭右开！！\n",
    "print(list[:4])          #没有指定第一个元素索引 即从头开始         \n",
    "print(list[4:])          #到列表末尾\n",
    "print(list[-3:])         #列表最后三个元素\n",
    "\n",
    "#遍历切片   \n",
    "for t in list[2:4]:      #在for循环中使用切片\n",
    "    print(t)"
   ]
  },
  {
   "cell_type": "code",
   "execution_count": 9,
   "id": "94a641bc",
   "metadata": {},
   "outputs": [
    {
     "name": "stdout",
     "output_type": "stream",
     "text": [
      "[1, 2, 3, 4, 5, 6, 7, 8, 9, 10]\n",
      "[1, 2, 3, 4, 5, 6, 7, 8, 9, 10, 0]\n",
      "[1, 2, 3, 4, 5, 6, 7, 8, 9, 10, 11]\n",
      "[1, 2, 3, 4, 5, 6, 7, 8, 9, 10, 0, 0, 11]\n",
      "[1, 2, 3, 4, 5, 6, 7, 8, 9, 10, 0, 0, 11]\n"
     ]
    }
   ],
   "source": [
    "#4.4 复制列表\n",
    "list = [1,2,3,4,5,6,7,8,9,10]\n",
    "list1=list[:]  #    使用切片  同时省略起始和最终索引\n",
    "print(list1)\n",
    "\n",
    "list.append(0)\n",
    "list1.append(11)\n",
    "print(list)\n",
    "print(list1)\n",
    "\n",
    "#直接用 = 两个列表赋值 不行\n",
    "list1= list\n",
    "list.append(0)\n",
    "list1.append(11)      #直接等号 赋值 list1 list都是指向同一个列表  指向=后的列表  对两个列表都起作用\n",
    "print(list)\n",
    "print(list1)"
   ]
  },
  {
   "cell_type": "code",
   "execution_count": 1,
   "id": "f306e38e",
   "metadata": {},
   "outputs": [
    {
     "name": "stdout",
     "output_type": "stream",
     "text": [
      "6\n"
     ]
    }
   ],
   "source": [
    "#使用二维列表模拟矩阵\n",
    "matrix=[\n",
    "    [1,2,3],\n",
    "    [4,5,6]\n",
    "]\n",
    "print(matrix[1][2])  #第2行第3列 "
   ]
  },
  {
   "cell_type": "code",
   "execution_count": null,
   "id": "40dbb702",
   "metadata": {},
   "outputs": [],
   "source": [
    "#4.5 元组\n",
    "#列表是可以修改的 不可变的列表为元组\n",
    "list=(1,2,3,4,5)    #元组使用括号 不是方括号      可以遍历访问元组元组   试图修改元组中的元素会报错\n",
    "\n",
    "#不能修改元组元素 可以给存储元组的变量 （list）赋值\n",
    "list=(1,2,3,4)"
   ]
  },
  {
   "cell_type": "code",
   "execution_count": 10,
   "id": "d3d1e04e",
   "metadata": {},
   "outputs": [
    {
     "name": "stdout",
     "output_type": "stream",
     "text": [
      "You can play games any time!\n",
      "2\n"
     ]
    }
   ],
   "source": [
    "#字符串判断相等 区分大小写    使用 .lower()来避免\n",
    "#5 if 语句 \n",
    "     #判断检查多个条件  and or\n",
    "age = 19\n",
    "if age > 18:  #注意冒号\n",
    "    print(\"You can play games any time!\")  #注意 for if while 等python对缩进有要求\n",
    "# if-else   if-elif-else  elif可以多用几个 else可以省略 注意冒号不要缺     执行一个代码块\n",
    "#测试多个条件 可以一直使用if 挨个判断是否满足                              执行多个代码块\n",
    "\n",
    "list = []\n",
    "if list:    #确定列表是否为空 \n",
    "    print(1)\n",
    "else:\n",
    "    print(2)"
   ]
  },
  {
   "cell_type": "code",
   "execution_count": 2,
   "id": "db6c9e90",
   "metadata": {},
   "outputs": [
    {
     "name": "stdout",
     "output_type": "stream",
     "text": [
      "3\n",
      "red\n",
      "{'numbers': 3, 'colors': 'red', 'cost': 10, 'position': 'desk'}\n",
      "{'numbers': 3, 'colors': 'red', 'position': 'desk'}\n",
      "{'colors': 'red', 'position': 'desk'}\n",
      "hello world!\n",
      "Hello,sdfkajsld;ldg  zbqzbqzbqzbqzbq\n"
     ]
    }
   ],
   "source": [
    "#6.1 6.2字典       花括号表示字典  一系列键-值对        键值 字符串 注意加括号\n",
    "\n",
    "#访问\n",
    "#通过使用键来访问对应的值 值可以是 数字、字符串、列表、字典  键 只能是 数字、元组、字符串     字符串：键值都需要加引号\n",
    "pens={'numbers':3,'colors':'red'}\n",
    "print(pens['numbers'])     #访问字典中的值  注意引号不要忘\n",
    "print(pens['colors'])\n",
    "\n",
    "#添加 键-值对\n",
    "pens['cost']=10\n",
    "pens['position']='desk'        #注意引号\n",
    "print(pens)\n",
    "\n",
    "#修改字典中的值\n",
    "#删除 键-值对    del\n",
    "del pens['cost']\n",
    "print(pens)\n",
    "\n",
    "     #pop  注意是括号\n",
    "pens.pop('numbers')\n",
    "print(pens)\n",
    "\n",
    "#补充：print语句分成多行  \n",
    "print(\"hello \"+    #分行末尾 拼接运算符 +\n",
    "     \"world!\")\n",
    "#补充 创建长、多行字符串\n",
    "message='Hello,sdfkajsld;ldg'\n",
    "message+=\"  zbqzbqzbqzbqzbq\"\n",
    "print(message)"
   ]
  },
  {
   "cell_type": "code",
   "execution_count": 13,
   "id": "207b4443",
   "metadata": {},
   "outputs": [
    {
     "name": "stdout",
     "output_type": "stream",
     "text": [
      "\n",
      "Key: numbers\n",
      "Value: 3\n",
      "\n",
      "Key: colors\n",
      "Value: red\n",
      "\n",
      "Key: position\n",
      "Value: desk\n",
      "numbers\n",
      "3\n",
      "colors\n",
      "red\n",
      "position\n",
      "desk\n",
      "dict_keys(['numbers', 'colors', 'position'])\n",
      "True\n",
      "3\n",
      "red\n"
     ]
    }
   ],
   "source": [
    "#6.3 遍历字典\n",
    "  #遍历所有键值对   for循环\n",
    "alien={\n",
    "    'numbers': 3, \n",
    "    'colors': 'red', \n",
    "    'position': 'desk', #键值对分成多行输入，在最后一个键值对后也添加逗号，方面后面在下一行添加键值对\n",
    "    }  #右花括号注意对齐\n",
    "for k,v in alien.items():  #k,v这两个变量可以使用任何名称 注意 方法items()\n",
    "    print(\"\\nKey: \" + k)\n",
    "    print(\"Value: \" + str(v))  #值中有数值 不然会报错\n",
    "     \n",
    "   #遍历所有键  方法keys() 返回一个列表包含字典中所有键\n",
    "for k in alien.keys():  #遍历字典默认遍历键 所以也可以写为 for k in alien：\n",
    "    print(k)\n",
    "    print(alien[k]) # 通过当前键访问值\n",
    "\n",
    "print(alien.keys())\n",
    "print('numbers' in alien.keys()) #注意原来字典的键有引号\n",
    "      #按指定顺序遍历所有键 sorted()\n",
    "       #for k in sorted(alien.keys()) 在遍历前对列表排序\n",
    "  \n",
    "   #遍历所有值  方法values() 返回一个列表包含字典中所有值 用法同上\n",
    "    #这种会提取所有值 不考虑是否重复 \n",
    "    #去除重复项 使用集合set()\n",
    "pens={'numbers':3,'colors':'red','cost':3}\n",
    "for v in set(pens.values()):\n",
    "    print(str(v))\n",
    "    "
   ]
  },
  {
   "cell_type": "code",
   "execution_count": 18,
   "id": "141536ca",
   "metadata": {},
   "outputs": [],
   "source": [
    "#6.4 嵌套   将一系列字典存储在列表中 或将 列表作为值存储在字典中   \n",
    "     #在字典中存储字典 many_users.py"
   ]
  },
  {
   "cell_type": "code",
   "execution_count": 10,
   "id": "6c01f900",
   "metadata": {},
   "outputs": [
    {
     "name": "stdout",
     "output_type": "stream",
     "text": [
      "input something,then repeat it back to you\n",
      " print'quit'to end the program.sjkdsl\n",
      "input something,then repeat it back to you\n",
      " print'quit'to end the program.quit\n"
     ]
    }
   ],
   "source": [
    "#7.1 7.2 while \n",
    "   #可以用来保证程序一直运行\n",
    "prompt=\"input something,then repeat it back to you\"   #back to you 起作用的是print(message)\n",
    "prompt += \"\\n print'quit'to end the program.\"\n",
    "message=''\n",
    "\n",
    "while message!='quit':\n",
    "    message=input(prompt)\n",
    "    #print(message)\n",
    "    \n",
    "#要求很多条件都满足才能继续运行的程序中 定义一个变量  标志   在while中判断标志true or false 让程序更简洁\n",
    "    #使用if判断 标志 True or False  可以使用elif判断多种条件 \n",
    "    \n",
    "#使用break 退出循环\n",
    "\n",
    "#循环中使用continue  返还循环开头并根据条件判断是否继续循环 \n",
    "\n",
    "#ctrl +C 停止无限循环"
   ]
  },
  {
   "cell_type": "code",
   "execution_count": 9,
   "id": "a0d00dbf",
   "metadata": {},
   "outputs": [
    {
     "name": "stdout",
     "output_type": "stream",
     "text": [
      "How old are you?22\n"
     ]
    },
    {
     "data": {
      "text/plain": [
       "True"
      ]
     },
     "execution_count": 9,
     "metadata": {},
     "output_type": "execute_result"
    }
   ],
   "source": [
    "#7.1 input()函数  给出要接受的参数说明  程序等待用户输入，在用户回车后程序继续运行   python自动理解输入为字符串 即使是数字输入 也是字符串\n",
    "age=input(\"How old are you?\") \n",
    "#print(age)\n",
    "\n",
    "#int()函数 将字符串转为数值 可接在input后面使用，获取数值输入 \n",
    "age=int(age)\n",
    "age>18"
   ]
  },
  {
   "cell_type": "code",
   "execution_count": 19,
   "id": "b556e45b",
   "metadata": {},
   "outputs": [
    {
     "name": "stdout",
     "output_type": "stream",
     "text": [
      "[]\n",
      "['e', 'd', 'c', 'b', 'a']\n"
     ]
    }
   ],
   "source": [
    "#7.3 使用while循环 处理列表和字典\n",
    " #for循环中不应修改列表  在遍历列表同时对其修改 使用while\n",
    "    \n",
    "#在列表之间移动元素     使用pop 将列表末尾弹出并使用\n",
    "list1=['a','b','c','d','e']\n",
    "list2=[]\n",
    "while list1:\n",
    "    list2.append(list1.pop())\n",
    "\n",
    "print(list1)\n",
    "print(list2)    \n",
    "#删除包含特定值的所有列表元素 remove\n",
    "\n",
    "#使用用户输入填充字典  学会设标志 "
   ]
  },
  {
   "cell_type": "code",
   "execution_count": null,
   "id": "5be50087",
   "metadata": {},
   "outputs": [],
   "source": []
  },
  {
   "cell_type": "code",
   "execution_count": null,
   "id": "2a785b29",
   "metadata": {},
   "outputs": [],
   "source": []
  },
  {
   "cell_type": "code",
   "execution_count": null,
   "id": "efcbe7de",
   "metadata": {},
   "outputs": [],
   "source": []
  },
  {
   "cell_type": "code",
   "execution_count": 16,
   "id": "4d725c2a",
   "metadata": {},
   "outputs": [
    {
     "name": "stdout",
     "output_type": "stream",
     "text": [
      "hello,world!\n",
      "hello Zbq!\n"
     ]
    }
   ],
   "source": [
    "#8.1 函数     可以在一个函数中调用另一个函数\n",
    "#定义函数\n",
    "def greeter_user():   #冒号 括号\n",
    "    '''显示信息的函数'''  #文档字符串 用来注释函数作用  学会注释\n",
    "    print(\"hello,world!\")\n",
    "\n",
    "greeter_user()\n",
    "\n",
    "#向函数传递信息 在函数名的括号中传递参数\n",
    "def greeter_user1(username):    #username是形参\n",
    "    '''显示信息的函数'''  \n",
    "    print(\"hello \" + username.title()+'!')\n",
    "\n",
    "greeter_user1('zbq') #zbq是实参"
   ]
  },
  {
   "cell_type": "code",
   "execution_count": 26,
   "id": "72cd0294",
   "metadata": {},
   "outputs": [
    {
     "name": "stdout",
     "output_type": "stream",
     "text": [
      "zbq is 22 years old!\n",
      "zbq is 18 years old!\n",
      "zbq is 3 years old!\n"
     ]
    }
   ],
   "source": [
    "#8.2 传递实参\n",
    "\n",
    "#1 位置实参 要求实参形参位置相同\n",
    "\n",
    "#2关键字实参 每个实参都由变量名和值组成 \n",
    "def info(name,age):\n",
    "    print(name+\" is \"+str(age)+\" years old!\")\n",
    "info(name='zbq',age=22)   #在调用时 指定形参\n",
    "\n",
    "#形参设置默认值  在def中直接定义好  \n",
    "def info(name,age=18):                   #给形参指定默认值 等号两边不要空格   调用关键字实参时 也不要空格\n",
    "    print(name+\" is \"+str(age)+\" years old!\")\n",
    "info('zbq')# 调用时 不用再对age说明    \n",
    "           # 但这里还是位置实参  要么调用时使用 关键字实参 要么在def中把默认值放后面\n",
    "info('zbq',3) #如果想修改默认的age 在调用时 直接修改\n",
    "\n",
    "#综上三种所述 函数调用有多种等效方式"
   ]
  },
  {
   "cell_type": "code",
   "execution_count": 7,
   "id": "4adfc0f2",
   "metadata": {},
   "outputs": [
    {
     "name": "stdout",
     "output_type": "stream",
     "text": [
      "{'first_name': 'zhuang', 'last_name': 'bq', 'Age': 22}\n",
      "{'first_name': 'Zhuang', 'last_name': 'bq'}\n"
     ]
    }
   ],
   "source": [
    "#8.3 返回值  函数不止可以print 也可以返回一个或一组值  可以返回任何类型的值 包括列表和字典等数据结构\n",
    "          #在函数中 使用return将值返回到调用函数的代码行\n",
    "  \n",
    "  #可选形参 通过默认值让实参变为可选的  当有一项形参可以不输入时\n",
    "def name(Xing,Ming,age=''):#将age默认值设为空字符串  可选形参放在形参列表末尾\n",
    "    person={'first_name':Xing,'last_name':Ming}\n",
    "    if age:\n",
    "        person['Age']=age\n",
    "    return person\n",
    "print(name('zhuang','bq',22))  #又忘了字符串的引号\n",
    "print(name('Zhuang','bq'))"
   ]
  },
  {
   "cell_type": "code",
   "execution_count": null,
   "id": "c7f303a4",
   "metadata": {},
   "outputs": [],
   "source": [
    "#8.4  传递列表给函数\n",
    "   #在函数中修改列表   在函数中对列表的修改是永久性的\n",
    "    \n",
    "   #禁止函数修改列表  即向函数传递列表的副本而不是原件   function_name(list_name[:]) 切片表示法[:]创建列表副本\n",
    "        #除非必须保留原始列表内容 还是应该将原始列表传递给函数 避免花时间和内存创建副本"
   ]
  },
  {
   "cell_type": "code",
   "execution_count": 15,
   "id": "de768304",
   "metadata": {},
   "outputs": [
    {
     "name": "stdout",
     "output_type": "stream",
     "text": [
      "('a', 'b', 'e', 'd')\n",
      "{'First': 'zhuang', 'Last': 'bq', 'name': 'zbq', 'age': 22}\n"
     ]
    }
   ],
   "source": [
    "#8.5 传递任意数量的实参\n",
    "def make_pizza(*toppings):          #  *号 创建一个toppings的空元祖 将所有值都放入元祖中\n",
    "    print(toppings)                        #元组遍历 使用for\n",
    "make_pizza('a','b','e','d')\n",
    "\n",
    "  #结合使用位置实参和任意数量实参\n",
    "     #在函数定义中将任意数量实参的形参放最后 python先匹配位置和关键字实参 然后将剩下的实参都收集到任意数量实参中\n",
    "  #使用任意数量的关键字实参\n",
    "     #预先不知道传递给函数的信息  可以将函数编写成能够接受任意数量的键值对     **号 创建字典\n",
    "#例 创建用户简介\n",
    "def info(first,last,**user_info):\n",
    "    profile={}  #先创建一个字典\n",
    "    profile['First']=first\n",
    "    profile['Last']=last\n",
    "    for k,v in user_info.items():  #user_info已经是字典了\n",
    "        profile[k]=v\n",
    "    print(profile)\n",
    "info('zhuang','bq',name='zbq',age=22) #字符串的引号 老是忘掉     \n",
    "                #任意数量的键值对的输入形式！！！！！！！！是关键字实参 只不过形参的名字是自己定的 注意引号什么时候有什么时候没有"
   ]
  },
  {
   "cell_type": "code",
   "execution_count": null,
   "id": "70d9edc4",
   "metadata": {},
   "outputs": [],
   "source": [
    "#8.6 将函数存储在模块中    模块是扩展名为.py的文件\n",
    "  #8.6.1  导入整个模块 ？？？？？？？？？？？？？？？？？？？？？？？？？？？？？？？？？？？？？？？？？？？？？？？？？？？？？？？\n",
    "        # import module_name  导入名为module_name的整个模块\n",
    "        # module_name.function_name()\n",
    "        \n",
    "   #导入特定函数    from module_name import function_name\n",
    "               #   from module_name import function_name0,function_name1,function_name2    多个函数 逗号分隔\n",
    "               #这样 就不用使用 module_name.function_name()  直接是 function_name()\n",
    "    \n",
    "   #使用as给函数指定别名  from module_name import function_name as fn \n",
    "    \n",
    "   #使用as给模块指定别名  import module_name as mn\n",
    "                  #     mn.function_name()  调用\n",
    "   \n",
    "   #导入模块中所有函数   from module_name import *    \n",
    "                #在导入时 注意已有函数名称和模块中的函数名称 小心会相同    只是了解有这个东西 自己写的时候 还是导入特定函数"
   ]
  },
  {
   "cell_type": "code",
   "execution_count": null,
   "id": "61ffe0c1",
   "metadata": {},
   "outputs": [],
   "source": [
    "#8.7 函数编写指南 \n",
    "def function_name(     #防止形参很多 一行太长的情况\n",
    "    parameter0,p2,p3,\n",
    "    p4,p5,p6):\n",
    "    function body     "
   ]
  },
  {
   "cell_type": "code",
   "execution_count": 3,
   "id": "229cea0c",
   "metadata": {},
   "outputs": [
    {
     "name": "stdout",
     "output_type": "stream",
     "text": [
      "My dog is White\n",
      "My dog is 6 years old!\n",
      "White is now sitting.\n",
      "White rolled over.\n"
     ]
    }
   ],
   "source": [
    " #9 类   类将函数和数据封装起来\n",
    "#类 及其 调用  关于class 和 def __init__(self,  )\n",
    " #创建Dog类\n",
    "     #每个实例将存储名字和年龄\n",
    "class Dog(): #python中定义首字母大写的名称为类\n",
    "    \n",
    "    def __init__(self, name, age):  #init前后双下划线  包含形参self  \n",
    "                                    #name age 可以通过实例访问  可以通过实例访问的变量称为属性\n",
    "        self.name = name\n",
    "        self.age = age\n",
    "        \n",
    "    def sit(self):\n",
    "        print(self.name.title() + \" is now sitting.\")\n",
    "            \n",
    "    def roll_over(self):\n",
    "        print(self.name.title() + \" rolled over.\")\n",
    "            \n",
    "            \n",
    "            #__init__() sit() roll_over() 称为方法\n",
    "            #sit 和 roll_over不需要额外的信息 所以只有self\n",
    "            \n",
    "  #根据类创建实例  （可以创建多个实例）\n",
    "              #当我们根据Dog类创建实例时，只需要给最后两个形参 提供值  self会自动传递\n",
    "    #访问属性  \n",
    "my_dog = Dog('white',6)\n",
    "print(\"My dog is \"+ my_dog.name.title())\n",
    "print(\"My dog is \"+str(my_dog.age)+\" years old!\")\n",
    "    #调用方法  \n",
    "             #python在Dog类中 找到对应方法 并运行其代码\n",
    "my_dog.sit()\n",
    "my_dog.roll_over()\n",
    "\n",
    "\n",
    "    \n",
    "#在这里卡的bug 要好好对齐  不然就给你报错 憨憨\n",
    "#def后面的冒号 总是漏"
   ]
  },
  {
   "cell_type": "code",
   "execution_count": 21,
   "id": "95afb6b0",
   "metadata": {},
   "outputs": [
    {
     "name": "stdout",
     "output_type": "stream",
     "text": [
      "2016 Audi A4\n"
     ]
    }
   ],
   "source": [
    "#9.2  使用类和实例    Car类\n",
    "class Car():\n",
    "    def __init__(self, make, model, year):\n",
    "        self.make = make\n",
    "        self.model = model\n",
    "        self.year = year\n",
    "    def get_descriptive_name(self):\n",
    "        long_name = str(self.year)+' '+self.make+' '+self.model      #后面要 print 注意str()的使用  把数字变为字符\n",
    "        return long_name.title()          #这里用了return  返回创建的字符串 vs Dog类 sit 直接print\n",
    "my_car = Car('Audi', 'a4',2016)\n",
    "print(my_car.get_descriptive_name())"
   ]
  },
  {
   "cell_type": "code",
   "execution_count": 23,
   "id": "5e836d56",
   "metadata": {},
   "outputs": [
    {
     "name": "stdout",
     "output_type": "stream",
     "text": [
      "The car has 0 miles on it. \n"
     ]
    }
   ],
   "source": [
    "#9.2 给属性指定默认值 \n",
    "#类中每个属性有初始值  对某个属性在__init__()方法中设置默认值 则不用形参\n",
    "class Car():\n",
    "    def __init__(self, make, model, year):\n",
    "        self.make = make\n",
    "        self.model = model\n",
    "        self.year = year\n",
    "        self.odometer_reading = 0   #这个属性在形参中不出现 直接默认初始值\n",
    "        \n",
    "    def read_odometer(self): #打印汽车历程表的消息\n",
    "        print(\"The car has \"+ str(self.odometer_reading)+\" miles on it. \")\n",
    "my_car = Car('Audi', 'a4',2016)\n",
    "my_car.read_odometer()"
   ]
  },
  {
   "cell_type": "code",
   "execution_count": 27,
   "id": "befd1c48",
   "metadata": {},
   "outputs": [],
   "source": [
    "#9.2    \n",
    "#修改属性的值    #直接修改 通过方法修改 通过方法对属性值进行递增\n",
    "     #直接修改\n",
    "my_car.odometer_reading=23\n",
    "my_car.read_odometer()"
   ]
  },
  {
   "cell_type": "code",
   "execution_count": 28,
   "id": "0a2561fe",
   "metadata": {},
   "outputs": [
    {
     "name": "stdout",
     "output_type": "stream",
     "text": [
      "The car has 23 miles on it. \n"
     ]
    }
   ],
   "source": [
    "#9.2\n",
    "   #通过方法修改\n",
    "     #上面是默认值 不用传递参数调用方法 这里将值传递给方法\n",
    "class Car():\n",
    "    def __init__(self, make, model, year):\n",
    "        self.make = make\n",
    "        self.model = model\n",
    "        self.year = year\n",
    "        self.odometer_reading = 0  \n",
    "        \n",
    "    def read_odometer(self): #打印汽车历程表的消息\n",
    "        print(\"The car has \"+ str(self.odometer_reading)+\" miles on it. \")\n",
    "    def update_odometer(self,mileage):\n",
    "        \n",
    "        #可以再扩展  禁止将里程数往回调\n",
    "        if mileage> self.odometer_reading:\n",
    "            self.odometer_reading = mileage\n",
    "        else:\n",
    "            print(\"YOU cannot do that!\")\n",
    "my_car = Car('Audi', 'a4',2016)\n",
    "my_car.update_odometer(23)\n",
    "my_car.read_odometer()"
   ]
  },
  {
   "cell_type": "code",
   "execution_count": null,
   "id": "1e52220a",
   "metadata": {},
   "outputs": [],
   "source": []
  },
  {
   "cell_type": "code",
   "execution_count": 6,
   "id": "48cb849f",
   "metadata": {},
   "outputs": [
    {
     "name": "stdout",
     "output_type": "stream",
     "text": [
      "24\n"
     ]
    }
   ],
   "source": [
    "#9.3 类 继承\n",
    "   #编写类是另一个现成类的特殊版本，可以继承    原有的类：父类 新类：子类   子类继承父类的所有属性和方法，同时可以定义自己的属性和方法\n",
    "\n",
    "    #子类的方法 __init__()   创建子类时 父类必须在当前文件中且在子类前面\n",
    "             #电动汽车继承汽车的属性 并有自己独特的属性\n",
    "class Car():\n",
    "    def __init__(self, make, model, year):\n",
    "        self.make = make\n",
    "        self.model = model\n",
    "        self.year = year\n",
    "        self.odometer_reading = 0\n",
    "        \n",
    "    def get_descriptive_name(self):\n",
    "        long_name = str(self.year)+' '+self.make+' '+self.model      \n",
    "        return long_name.title()   \n",
    "        \n",
    "    def read_odometer(self): #打印汽车历程表的消息\n",
    "        print(\"The car has \"+ str(self.odometer_reading)+\" miles on it. \")\n",
    "        \n",
    "class ElectricCar(Car): #定义子类时要在括号内指定父类的名称\n",
    "    def __init__(self,make,model,year,age):   #初始化父类属性\n",
    "        super().__init__(make,model,year) #super()将父类子类关联起来 调用父类__init__()方法 让ElectricCar实例包含父类的所有属性\n",
    "        self.age=age                                \n",
    "    #给子类定义属性和方法  可以添加区分子类和父类的新属性和方法   方法直接 def  属性 在__init__中的形参最后添加？？？？？？？？？可行 但说法不确定\n",
    "                                                  #属性要再__init__中  self.shuxing 说明一下 是默认值还是实参传入？？？？？？自己说的 \n",
    "        \n",
    "    #重写父类的方法   当父类中有一种方法不适用于子类  子类同名重写方法 则忽视父类中的方法 使用子类方法      "
   ]
  },
  {
   "cell_type": "code",
   "execution_count": 2,
   "id": "d82de84a",
   "metadata": {},
   "outputs": [
    {
     "name": "stdout",
     "output_type": "stream",
     "text": [
      "This car has a 20 -kwh battery.\n"
     ]
    }
   ],
   "source": [
    "#9.3 \n",
    "#    将实例用作属性  将类的一部分作为一个独立的类提取出来\n",
    "class Car():\n",
    "    def __init__(self, make, model, year):\n",
    "        self.make = make\n",
    "        self.model = model\n",
    "        self.year = year\n",
    "        self.odometer_reading = 0\n",
    "        \n",
    "    def get_descriptive_name(self):\n",
    "        long_name = str(self.year)+' '+self.make+' '+self.model      \n",
    "        return long_name.title()   \n",
    "        \n",
    "    def read_odometer(self): \n",
    "        print(\"The car has \"+ str(self.odometer_reading)+\" miles on it. \")\n",
    "        \n",
    "class Battery():\n",
    "    def __init__(self,battery_size=70):\n",
    "        self.battery_size=battery_size\n",
    "    def describe_battery(self):\n",
    "        print(\"This car has a \"+str(self.battery_size)+\" -kwh battery.\")\n",
    "        \n",
    "class ElectricCar(Car): \n",
    "    def __init__(self,make,model,year,age):  \n",
    "        super().__init__(make,model,year) \n",
    "        self.age=age\n",
    "        self.battery=Battery(20)  #在括号中给battery_size提供新值 则忽视前面默认值70\n",
    "        \n",
    "my_car=ElectricCar('tesla','models',3,3)\n",
    "my_car.battery.describe_battery()"
   ]
  },
  {
   "cell_type": "code",
   "execution_count": null,
   "id": "8ce12c7c",
   "metadata": {},
   "outputs": [],
   "source": [
    "# 9.4 导入类    将类存储在模块中，在主程序中导入模块wwwwwwwwwwwwwwwwwwwwwwwwwwwwwwwwwwwwwwwwwwwwwwwwwwwwwwwwwwwwwwwwwwwww"
   ]
  },
  {
   "cell_type": "code",
   "execution_count": 15,
   "id": "55b51426",
   "metadata": {},
   "outputs": [],
   "source": [
    "# 9.6  规范 \n",
    "# 类 每个单词首字母大写 不使用下划线  实例和模块名小写 单词之间加上下划线\n",
    "#类中使用一个空行 分隔方法   模块中 使用两个空行分隔类\n",
    "#同时import 标准库  和自己写的模块时  先import标准库 然后空一行 import自己的模块"
   ]
  },
  {
   "cell_type": "code",
   "execution_count": 9,
   "id": "e07b5eca",
   "metadata": {},
   "outputs": [
    {
     "name": "stdout",
     "output_type": "stream",
     "text": [
      "3.1415926535\n",
      "   8973874932\n",
      "   34823948342\n",
      "3.1415926535\n",
      "   8973874932\n",
      "   34823948342\n",
      "3.1415926535\n",
      "   8973874932\n",
      "   34823948342\n",
      "3.1415926535   8973874932   34823948342\n",
      "3.1415926535897387493234823948342\n",
      "3.1415926535……\n"
     ]
    }
   ],
   "source": [
    "#10 文件和异常\n",
    "#10.1 从文件中读取数据\n",
    "    #读取整个文件\n",
    "with open(\"pi.txt\") as file_object:      \n",
    "    #函数 open() 接受一个要打开文件的名称参数 python在当前执行文件的目录中查找指定文件 子文件夹不行\n",
    "      #关键字with在不需要访问文件后关闭  比使用close()更好\n",
    "        \n",
    "          #文件路径   当前文件夹下的子文件夹text_files 相对文件路径 : with open(\"text_files:\\pi.txt\") as file_object:\n",
    "                 #   准确位置     绝对文件路径 : file_path='C:\\Users\\cornflowerzbq\\pi.txt'    绝对路径比较长 先存储在变量中        \n",
    "                 #                             with open(file_path) as file_object:\n",
    "                    #防止转译标记误用  \\前加r？？？？？？？？？？？？？？？？？？？？？？？？？？？？？\n",
    "                \n",
    "    contents=file_object.read()          #方法read() 读取文件的全部内容\n",
    "    print(contents)                         #read()在到达文件末尾时返回一个空字符串 显示出 多一个空行\n",
    "    #print(contents.rstrip())    方法rstrip() 删除字符串末尾的空白\n",
    "    \n",
    "    #按照每次一行读取   在文件中查找特定信息 或 按照某种方式修改文件中文本\n",
    "with open(\"pi.txt\") as file_object:  \n",
    "    for line in file_object:\n",
    "        print(line.rstrip()) \n",
    "        \n",
    "#创建一个包含文件各行内容的列表     open()返回的文件对象只在with代码块内可用 在其中将文件内容保存在列表中方面后面使用\n",
    "with open(\"pi.txt\") as file_object: \n",
    "    lines=file_object.readlines()      #方法readlines() 读取文件的每一行 并将其存储在一个列表中\n",
    "    \n",
    "for line in lines:\n",
    "    print(line.rstrip())\n",
    "        \n",
    "#使用文件内容\n",
    "with open(\"pi.txt\") as file_object: \n",
    "    lines=file_object.readlines()\n",
    "pi_string=''    #需要先定义一下\n",
    "pi_string1=''\n",
    "for line in lines:\n",
    "    pi_string+=line.rstrip()   #去掉了每行末尾的换行符 但是 txt中每行前面的空格还在\n",
    "    pi_string1+=line.strip()   #使用strip()将空格都删掉\n",
    "print(pi_string)\n",
    "print(pi_string1)             #计算字符串长度时小数点也算\n",
    "  \n",
    "#读取文本文件时，python将所有文本解读为字符串，若将数字作为数值使用  需要使用int() float()方法\n",
    "\n",
    "#打印小数点后具体位数\n",
    "print(pi_string1[:12]+'……')"
   ]
  },
  {
   "cell_type": "code",
   "execution_count": 11,
   "id": "b35fc880",
   "metadata": {},
   "outputs": [],
   "source": [
    "#10.2 写入文件    调用open时 提供另一个实参\n",
    "# w 写入模式 r读取模式 a附件模式 r+ 读取和写入文件的模式     没有模式实参则默认为只读\n",
    "with open('pi1.txt','w') as file_object:      #写入的文件不存在 则自动创建  写入已有文件 python在返回文件对象前清空该文件\n",
    "    file_object.write('zbqzbqzbqzbq.')\n",
    "\n",
    "    #python只能将字符串写入文本文件  要将数值数据存储到文本文件中，必须使用str()转为字符串格式\n",
    "\n",
    "#写入多行   write()函数不会换行  如果没有换行符 多少行write都是一行   \n",
    "    # 正确做法 file_object.write('zbqzbq.\\n')    在write语句中包含换行符\n",
    "\n",
    "#写入已有文件 添加内容 不覆盖原有内容  使用a 附加模式 打开文件   写入的行都将添加到文件末尾"
   ]
  },
  {
   "cell_type": "code",
   "execution_count": 2,
   "id": "f7b8d075",
   "metadata": {},
   "outputs": [
    {
     "name": "stdout",
     "output_type": "stream",
     "text": [
      "cannot divide by zero.\n",
      "first number and q for quit3\n",
      "second number and q for quit2\n",
      "1.5\n",
      "first number and q for quitq\n",
      "second number and q for quitq\n"
     ]
    }
   ],
   "source": [
    "#10.3 异常    出现异常使用try_except()代码块进行处理\n",
    "\n",
    "#ZeroDivisionError 异常\n",
    "try:\n",
    "    print(5/0)\n",
    "except ZeroDivisionError:\n",
    "    print('cannot divide by zero.')    #使用try_except()代码块后 程序继续运行 不会停止程序\n",
    "    \n",
    "#else 代码块   try为True后执行else代码块\n",
    "while True:\n",
    "    first_num=input('first number and q for quit')\n",
    "    second_num=input('second number and q for quit')\n",
    "    if first_num=='q':\n",
    "        break\n",
    "    if second_num=='q':\n",
    "        break\n",
    "    try:\n",
    "        a=int(first_num)/int(second_num)\n",
    "    except ZeroDivisionError:\n",
    "        print(\"Cannot divide by zero!\")\n",
    "    else:\n",
    "        print(a)\n",
    "        \n",
    "#FileNotFoundError 异常       文件路径不对 文件名不正确或文件不存在\n",
    "\n",
    "#except代码块中可以print出错内容 也可以使用pass什么也不做  \n",
    "\n",
    "#分析文本\n",
    "   #split()方法 根据字符串 以空格为分隔符将字符串分拆成多个部分  创建一个单词列表\n",
    "\n",
    "#再次提醒 将代码块写为函数时  注释要改为文档字符串"
   ]
  },
  {
   "cell_type": "code",
   "execution_count": 4,
   "id": "a6e0da0a",
   "metadata": {},
   "outputs": [
    {
     "name": "stdout",
     "output_type": "stream",
     "text": [
      "[1, 2, 3, 4, 5]\n"
     ]
    }
   ],
   "source": [
    "#10.4 使用模块 json 存储数据   能够将简单的python数据结构转储到文件中 并在程序再次运行时加载该文件中的数据\n",
    "  #json数据格式 可以在不同编程语言中使用\n",
    "# json.dump()  两个实参：存储的数据 和 存储数据的文件对象\n",
    "# json.load()  一个实参：存储数据的文件对象\n",
    "\n",
    "import json\n",
    "numbers=[1,2,3,4,5]\n",
    "file_name='numbers.json'       #使用.json指出文件存储的数据为JSOG格式\n",
    "with open(file_name,'w') as file_object:\n",
    "    json.dump(numbers,file_object)\n",
    "\n",
    "import json\n",
    "file_name='numbers.json'       #使用.json指出文件存储的数据为JSOG格式\n",
    "with open(file_name) as file_object:\n",
    "    numbers1=json.load(file_object)   #需要给读取的文件内容给一个变量 numbers1\n",
    "print(numbers1)\n",
    "\n",
    "#重构  将可以正确运行的代码划分为一系列具体工作的函数\n",
    "   #函数 返回 具体内容  或 return None  后面调用函数时可以使用if判断"
   ]
  },
  {
   "cell_type": "code",
   "execution_count": null,
   "id": "c26d9695",
   "metadata": {},
   "outputs": [],
   "source": [
    "#11 测试代码  unittest工具测试代码\n",
    "#单元测试和测试用例\n"
   ]
  }
 ],
 "metadata": {
  "kernelspec": {
   "display_name": "Python 3 (ipykernel)",
   "language": "python",
   "name": "python3"
  },
  "language_info": {
   "codemirror_mode": {
    "name": "ipython",
    "version": 3
   },
   "file_extension": ".py",
   "mimetype": "text/x-python",
   "name": "python",
   "nbconvert_exporter": "python",
   "pygments_lexer": "ipython3",
   "version": "3.9.12"
  }
 },
 "nbformat": 4,
 "nbformat_minor": 5
}
